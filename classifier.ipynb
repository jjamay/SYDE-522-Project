{
 "cells": [
  {
   "cell_type": "code",
   "execution_count": 4,
   "metadata": {},
   "outputs": [],
   "source": [
    "from pandas import DataFrame, read_csv\n",
    "import matplotlib.pyplot as plt\n",
    "import pandas as pd \n",
    "import numpy as np\n",
    "\n",
    "X_file = r'dataset/X.csv'\n",
    "X = pd.read_csv(X_file)\n",
    "\n",
    "Y_file = r'dataset/Y.csv'\n",
    "Y = pd.read_csv(Y_file)\n",
    "\n",
    "pd.set_option('display.max_columns', len(X.columns))"
   ]
  },
  {
   "cell_type": "code",
   "execution_count": 6,
   "metadata": {},
   "outputs": [],
   "source": [
    "from sklearn_pandas import DataFrameMapper\n",
    "from sklearn.feature_extraction.text import TfidfVectorizer\n",
    "\n",
    "mapper = DataFrameMapper([\n",
    "    ('adult', None),\n",
    "    ('belongs_to_collection', TfidfVectorizer()), \n",
    "    ('budget', None),\n",
    "    ('genres', TfidfVectorizer()),\n",
    "    ('homepage', None),\n",
    "    ('overview', TfidfVectorizer()),\n",
    "    ('popularity', None),\n",
    "    ('production_companies', TfidfVectorizer()),\n",
    "    ('production_countries', TfidfVectorizer()),\n",
    "#    ('release_date', None),\n",
    "    ('revenue', None), \n",
    "    ('runtime', None),\n",
    "    ('spoken_languages', None),\n",
    "    ('tagline', TfidfVectorizer()), \n",
    "    ('title', TfidfVectorizer()),\n",
    "    ('vote_average', None),\n",
    "    ('vote_count', None),\n",
    "    ('cast', TfidfVectorizer()),\n",
    "    ('keywords', TfidfVectorizer()),\n",
    "    ('cast_size', None),\n",
    "    ('crew_size', None),\n",
    "    ('director', TfidfVectorizer()),\n",
    "    ('producers', TfidfVectorizer()),\n",
    "    ('executive_producers', TfidfVectorizer()),\n",
    "])\n",
    "\n",
    "X.fillna('', inplace=True) # can't have nan in any of the columns\n",
    "\n",
    "features = mapper.fit_transform(X)"
   ]
  },
  {
   "cell_type": "code",
   "execution_count": null,
   "metadata": {},
   "outputs": [],
   "source": []
  }
 ],
 "metadata": {
  "kernelspec": {
   "display_name": "Python 2",
   "language": "python",
   "name": "python2"
  },
  "language_info": {
   "codemirror_mode": {
    "name": "ipython",
    "version": 2
   },
   "file_extension": ".py",
   "mimetype": "text/x-python",
   "name": "python",
   "nbconvert_exporter": "python",
   "pygments_lexer": "ipython2",
   "version": "2.7.14"
  }
 },
 "nbformat": 4,
 "nbformat_minor": 2
}
