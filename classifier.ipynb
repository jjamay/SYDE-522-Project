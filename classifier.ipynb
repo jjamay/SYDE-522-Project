{
 "cells": [
  {
   "cell_type": "code",
   "execution_count": null,
   "metadata": {},
   "outputs": [],
   "source": [
    "from helpers.training import TrainingData\n",
    "from sklearn.metrics import accuracy_score\n",
    "\n",
    "training_data = TrainingData()"
   ]
  },
  {
   "cell_type": "code",
   "execution_count": null,
   "metadata": {},
   "outputs": [],
   "source": [
    "# PCA\n",
    "\n",
    "from sklearn.decomposition import PCA\n",
    "\n",
    "# figure out n_components later\n",
    "pca = PCA(n_components=54)\n",
    "\n",
    "X_tr = pca.fit_transform(training_data.X_tr)\n",
    "X_ts = pca.fit_transform(training_data.X_ts)"
   ]
  },
  {
   "cell_type": "code",
   "execution_count": null,
   "metadata": {},
   "outputs": [],
   "source": [
    "# GRADIENT BOOST\n",
    "\n",
    "from sklearn.ensemble import GradientBoostingClassifier\n",
    "\n",
    "gbt = GradientBoostingClassifier(max_features=\"log2\")\n",
    "gbt.fit(training_data.X_tr, training_data.Y_tr)\n",
    "\n",
    "p = gbt.predict(training_data.X_ts)\n",
    "\n",
    "precision = accuracy_score(p, training_data.Y_ts) * 100\n",
    "print(\"Accuracy using GB: {0:.2f}%\".format(precision))"
   ]
  },
  {
   "cell_type": "code",
   "execution_count": null,
   "metadata": {},
   "outputs": [],
   "source": [
    "# RANDOM FOREST\n",
    "\n",
    "from sklearn.ensemble import RandomForestClassifier\n",
    "\n",
    "rft = RandomForestClassifier()\n",
    "rft.fit(training_data.X_tr, training_data.Y_tr)\n",
    "\n",
    "p = rft.predict(training_data.X_ts)\n",
    "\n",
    "precision = accuracy_score(p, training_data.Y_ts) * 100\n",
    "print(\"Accuracy using RF: {0:.2f}%\".format(precision))"
   ]
  },
  {
   "cell_type": "code",
   "execution_count": null,
   "metadata": {},
   "outputs": [],
   "source": [
    "# SVC\n",
    "\n",
    "from sklearn.svm import SVC\n",
    "from sklearn.model_selection import RandomizedSearchCV\n",
    "from scipy import stats\n",
    "\n",
    "# def svc_param_selection(X, y, jobs):\n",
    "#     params = {'C': stats.uniform(0, 10),\n",
    "#           'gamma': stats.uniform(0, 1)}\n",
    "#     rand_search = RandomizedSearchCV(SVC(),\n",
    "#                                      param_distributions=params,\n",
    "#                                      n_jobs=jobs,\n",
    "#                                      random_state=2017)\n",
    "#     rand_search.fit(X, y)\n",
    "#     print(rand_search.best_params_)\n",
    "#     return rand_search.best_params_\n",
    "\n",
    "# best_params = svc_param_selection(training_data.X_tr, training_data.Y_tr, 4)\n",
    "\n",
    "# svc = SVC(C=best_params['C'], gamma=best_params['gamma'])\n",
    "\n",
    "svc = SVC(kernel='linear', C=4.479, gamma=0.1205)\n",
    "svc.fit(training_data.X_tr, training_data.Y_tr)\n",
    "\n",
    "p = svc.predict(training_data.X_ts)\n",
    "\n",
    "precision = accuracy_score(p, training_data.Y_ts) * 100\n",
    "print(\"Accuracy using SVC: {0:.2f}%\".format(precision))"
   ]
  },
  {
   "cell_type": "code",
   "execution_count": null,
   "metadata": {},
   "outputs": [],
   "source": []
  }
 ],
 "metadata": {
  "kernelspec": {
   "display_name": "Python 2",
   "language": "python",
   "name": "python2"
  },
  "language_info": {
   "codemirror_mode": {
    "name": "ipython",
    "version": 2
   },
   "file_extension": ".py",
   "mimetype": "text/x-python",
   "name": "python",
   "nbconvert_exporter": "python",
   "pygments_lexer": "ipython2",
   "version": "2.7.14"
  }
 },
 "nbformat": 4,
 "nbformat_minor": 2
}
