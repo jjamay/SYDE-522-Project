{
 "cells": [
  {
   "cell_type": "code",
   "execution_count": 1,
   "metadata": {},
   "outputs": [
    {
     "name": "stderr",
     "output_type": "stream",
     "text": [
      "/Users/jmay/anaconda3/envs/py27/lib/python2.7/site-packages/sklearn/model_selection/_split.py:2026: FutureWarning: From version 0.21, test_size will always complement train_size unless both are specified.\n",
      "  FutureWarning)\n"
     ]
    },
    {
     "data": {
      "text/plain": [
       "(15716, 54)"
      ]
     },
     "execution_count": 1,
     "metadata": {},
     "output_type": "execute_result"
    }
   ],
   "source": [
    "from sklearn.metrics import accuracy_score\n",
    "from helpers.training import TrainingData\n",
    "\n",
    "training_data = TrainingData()\n",
    "training_data.X_tr.shape"
   ]
  },
  {
   "cell_type": "code",
   "execution_count": 2,
   "metadata": {},
   "outputs": [],
   "source": [
    "# currently, running PCA makes it worse - need to investigate why\n",
    "from sklearn.decomposition import PCA\n",
    "\n",
    "# figure out n_components later\n",
    "pca = PCA(n_components=20)\n",
    "\n",
    "X_tr = pca.fit_transform(training_data.X_tr)\n",
    "X_ts = pca.fit_transform(training_data.X_ts)"
   ]
  },
  {
   "cell_type": "code",
   "execution_count": null,
   "metadata": {},
   "outputs": [],
   "source": [
    "from sklearn.ensemble import GradientBoostingClassifier\n",
    "\n",
    "gbt = GradientBoostingClassifier(max_features=\"log2\")\n",
    "gbt.fit(training_data.X_tr, training_data.Y_tr)\n",
    "\n",
    "p = gbt.predict(training_data.X_ts)\n",
    "\n",
    "precision = accuracy_score(p, training_data.Y_ts) * 100\n",
    "print(\"Accuracy using GB: {0:.2f}%\".format(precision))"
   ]
  },
  {
   "cell_type": "code",
   "execution_count": null,
   "metadata": {},
   "outputs": [],
   "source": [
    "from sklearn.ensemble import RandomForestClassifier\n",
    "\n",
    "rft = RandomForestClassifier()\n",
    "rft.fit(training_data.X_tr, training_data.Y_tr)\n",
    "\n",
    "p = rft.predict(training_data.X_ts)\n",
    "\n",
    "precision = accuracy_score(p, training_data.Y_ts) * 100\n",
    "print(\"Accuracy using RF: {0:.2f}%\".format(precision))"
   ]
  },
  {
   "cell_type": "code",
   "execution_count": null,
   "metadata": {},
   "outputs": [],
   "source": [
    "from sklearn.svm import SVC\n",
    "from sklearn.model_selection import RandomizedSearchCV\n",
    "from scipy import stats\n",
    "\n",
    "def svc_param_selection(X, y, jobs):\n",
    "    params = {'C': stats.uniform(0, 10),\n",
    "          'gamma': stats.uniform(0, 1)}\n",
    "    rand_search = RandomizedSearchCV(SVC(),\n",
    "                                     param_distributions=params,\n",
    "                                     n_jobs=jobs,\n",
    "                                     random_state=2017)\n",
    "    rand_search.fit(X, y)\n",
    "    print(rand_search.best_params_)\n",
    "    return rand_search.best_params_\n",
    "\n",
    "best_params = svc_param_selection(training_data.X_tr, training_data.Y_tr, 4)\n",
    "\n",
    "svc = SVC(C=best_params['C'], gamma=best_params['gamma'])\n",
    "svc.fit(training_data.X_tr, training_data.Y_tr)\n",
    "\n",
    "p = svc.predict(training_data.X_ts)\n",
    "\n",
    "precision = accuracy_score(p, training_data.Y_ts) * 100\n",
    "print(\"Accuracy using SVC: {0:.2f}%\".format(precision))"
   ]
  },
  {
   "cell_type": "code",
   "execution_count": null,
   "metadata": {},
   "outputs": [],
   "source": []
  }
 ],
 "metadata": {
  "kernelspec": {
   "display_name": "Python 2",
   "language": "python",
   "name": "python2"
  },
  "language_info": {
   "codemirror_mode": {
    "name": "ipython",
    "version": 2
   },
   "file_extension": ".py",
   "mimetype": "text/x-python",
   "name": "python",
   "nbconvert_exporter": "python",
   "pygments_lexer": "ipython2",
   "version": "2.7.14"
  }
 },
 "nbformat": 4,
 "nbformat_minor": 2
}
