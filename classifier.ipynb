{
 "cells": [
  {
   "cell_type": "code",
   "execution_count": 1,
   "metadata": {},
   "outputs": [
    {
     "name": "stderr",
     "output_type": "stream",
     "text": [
      "/home/justin/anaconda2/lib/python2.7/site-packages/sklearn/model_selection/_split.py:2026: FutureWarning: From version 0.21, test_size will always complement train_size unless both are specified.\n",
      "  FutureWarning)\n"
     ]
    }
   ],
   "source": [
    "from helpers.training import TrainingData\n",
    "\n",
    "training_data = TrainingData()"
   ]
  },
  {
   "cell_type": "code",
   "execution_count": 2,
   "metadata": {},
   "outputs": [],
   "source": [
    "# currently, running PCA makes it worse - need to investigate why\n",
    "# from sklearn.decomposition import PCA\n",
    "\n",
    "# # figure out n_components later\n",
    "# pca = PCA()\n",
    "\n",
    "# X_tr = pca.fit_transform(training_data.X_tr)\n",
    "# X_ts = pca.fit_transform(training_data.X_ts)"
   ]
  },
  {
   "cell_type": "code",
   "execution_count": 2,
   "metadata": {},
   "outputs": [
    {
     "name": "stdout",
     "output_type": "stream",
     "text": [
      "Accuracy using GB: 60.72%\n"
     ]
    }
   ],
   "source": [
    "from sklearn.ensemble import GradientBoostingClassifier\n",
    "from sklearn.metrics import accuracy_score\n",
    "\n",
    "gbt = GradientBoostingClassifier(max_features=\"log2\")\n",
    "gbt.fit(training_data.X_tr, training_data.Y_tr)\n",
    "\n",
    "p = gbt.predict(training_data.X_ts)\n",
    "\n",
    "precision = accuracy_score(p, training_data.Y_ts) * 100\n",
    "print(\"Accuracy using GB: {0:.2f}%\".format(precision))"
   ]
  },
  {
   "cell_type": "code",
   "execution_count": 20,
   "metadata": {},
   "outputs": [
    {
     "name": "stdout",
     "output_type": "stream",
     "text": [
      "Accuracy using RF: 44.91%\n"
     ]
    }
   ],
   "source": [
    "from sklearn.ensemble import RandomForestClassifier\n",
    "\n",
    "rft = RandomForestClassifier()\n",
    "rft.fit(X_tr, training_data.Y_tr)\n",
    "\n",
    "p = rft.predict(X_ts)\n",
    "\n",
    "precision = accuracy_score(p, training_data.Y_ts) * 100\n",
    "print(\"Accuracy using RF: {0:.2f}%\".format(precision))"
   ]
  },
  {
   "cell_type": "code",
   "execution_count": null,
   "metadata": {},
   "outputs": [],
   "source": [
    "from sklearn.svm import SVC\n",
    "from sklearn.model_selection import RandomizedSearchCV\n",
    "from scipy import stats\n",
    "\n",
    "jobs=-1\n",
    "\n",
    "def svc_param_selection(X, y, n_folds, n_jobs):\n",
    "    params = {'C': stats.uniform(0, 10),\n",
    "          'gamma': stats.uniform(0, 1)}\n",
    "    rand_search = RandomizedSearchCV(SVC(),\n",
    "                                     param_distributions=params,\n",
    "                                     cv=n_folds,\n",
    "                                     n_jobs=jobs,\n",
    "                                     random_state=2017)\n",
    "    rand_search.fit(X, y)\n",
    "    print(rand_search.best_params_)\n",
    "    return rand_search.best_params_\n",
    "\n",
    "best_params = svc_param_selection(training_data.features, training_data.Y, 3, 4)\n",
    "\n",
    "svc = SVC(C=best_params['C'], gamma=best_params['gamma'])\n",
    "svc.fit(X_tr, training_data.Y_tr)\n",
    "\n",
    "p = svc.predict(X_ts)\n",
    "\n",
    "precision = accuracy_score(p, training_data.Y_ts) * 100\n",
    "print(\"Accuracy using SVC: {0:.2f}%\".format(precision))"
   ]
  },
  {
   "cell_type": "code",
   "execution_count": null,
   "metadata": {},
   "outputs": [],
   "source": []
  }
 ],
 "metadata": {
  "kernelspec": {
   "display_name": "Python 2",
   "language": "python",
   "name": "python2"
  },
  "language_info": {
   "codemirror_mode": {
    "name": "ipython",
    "version": 2
   },
   "file_extension": ".py",
   "mimetype": "text/x-python",
   "name": "python",
   "nbconvert_exporter": "python",
   "pygments_lexer": "ipython2",
   "version": "2.7.14"
  }
 },
 "nbformat": 4,
 "nbformat_minor": 2
}
