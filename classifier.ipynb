{
 "cells": [
  {
   "cell_type": "code",
   "execution_count": 178,
   "metadata": {},
   "outputs": [],
   "source": [
    "from pandas import DataFrame, read_csv\n",
    "import matplotlib.pyplot as plt\n",
    "import pandas as pd \n",
    "import numpy as np\n",
    "from sklearn.model_selection import train_test_split\n",
    "\n",
    "X_file = r'dataset/X.csv'\n",
    "X = pd.read_csv(X_file)\n",
    "\n",
    "Y_file = r'dataset/Y.csv'\n",
    "Y = pd.read_csv(Y_file)\n",
    "\n",
    "pd.set_option('display.max_columns', len(X.columns))"
   ]
  },
  {
   "cell_type": "code",
   "execution_count": 179,
   "metadata": {},
   "outputs": [
    {
     "data": {
      "text/plain": [
       "((3874, 25), (3874, 1))"
      ]
     },
     "execution_count": 179,
     "metadata": {},
     "output_type": "execute_result"
    }
   ],
   "source": [
    "X.shape, Y.shape"
   ]
  },
  {
   "cell_type": "code",
   "execution_count": 180,
   "metadata": {},
   "outputs": [],
   "source": [
    "from sklearn_pandas import DataFrameMapper\n",
    "# from sklearn.feature_extraction.text import TfidfVectorizer\n",
    "from sklearn.feature_extraction.text import HashingVectorizer\n",
    "\n",
    "N = 25\n",
    "\n",
    "mapper = DataFrameMapper([\n",
    "    ('adult', None),\n",
    "    ('belongs_to_collection', HashingVectorizer(n_features=N)), \n",
    "#    ('budget', None),\n",
    "    ('genres', HashingVectorizer(n_features=N)),\n",
    "    ('homepage', None),\n",
    "    ('overview', HashingVectorizer(n_features=N)),\n",
    "    ('popularity', None),\n",
    "    ('production_companies', HashingVectorizer(n_features=N)),\n",
    "    ('production_countries', HashingVectorizer(n_features=N)),\n",
    "#    ('release_date', None),\n",
    "#    ('revenue', None), \n",
    "    ('runtime', None),\n",
    "    ('spoken_languages', None),\n",
    "    ('tagline', HashingVectorizer(n_features=N)), \n",
    "    ('title', HashingVectorizer(n_features=N)),\n",
    "    ('vote_average', None),\n",
    "    ('vote_count', None),\n",
    "    ('cast', HashingVectorizer(n_features=N)),\n",
    "    ('keywords', HashingVectorizer(n_features=N)),\n",
    "    ('cast_size', None),\n",
    "    ('crew_size', None),\n",
    "    ('director', HashingVectorizer(n_features=N)),\n",
    "    ('producers', HashingVectorizer(n_features=N)),\n",
    "    ('executive_producers', HashingVectorizer(n_features=N)),\n",
    "], input_df=True)\n",
    "\n",
    "X.fillna('', inplace=True) # can't have nan in any of the columns\n",
    "\n",
    "features = mapper.fit_transform(X)"
   ]
  },
  {
   "cell_type": "code",
   "execution_count": 181,
   "metadata": {},
   "outputs": [],
   "source": [
    "X_tr, X_ts, Y_tr, Y_ts = train_test_split(features, Y, train_size = 0.7)"
   ]
  },
  {
   "cell_type": "code",
   "execution_count": 182,
   "metadata": {},
   "outputs": [
    {
     "data": {
      "text/plain": [
       "((2711, 309), (1163, 309), (2711, 1), (1163, 1))"
      ]
     },
     "execution_count": 182,
     "metadata": {},
     "output_type": "execute_result"
    }
   ],
   "source": [
    "X_tr.shape, X_ts.shape, Y_tr.shape, Y_ts.shape"
   ]
  },
  {
   "cell_type": "code",
   "execution_count": 183,
   "metadata": {},
   "outputs": [],
   "source": [
    "from sklearn.decomposition import PCA\n",
    "pca = PCA()\n",
    "\n",
    "X_tr = pca.fit_transform(X_tr)\n",
    "X_ts = pca.fit_transform(X_ts)"
   ]
  },
  {
   "cell_type": "code",
   "execution_count": 184,
   "metadata": {},
   "outputs": [
    {
     "name": "stdout",
     "output_type": "stream",
     "text": [
      "Accuracy using GB: 71.45%\n"
     ]
    }
   ],
   "source": [
    "from sklearn.ensemble import GradientBoostingClassifier\n",
    "from sklearn.metrics import accuracy_score\n",
    "\n",
    "gbt = GradientBoostingClassifier(max_features=\"log2\")\n",
    "gbt.fit(X_tr, Y_tr)\n",
    "\n",
    "p = gbt.predict(X_ts)\n",
    "\n",
    "precision = accuracy_score(p, Y_ts) * 100\n",
    "print(\"Accuracy using GB: {0:.2f}%\".format(precision))"
   ]
  },
  {
   "cell_type": "code",
   "execution_count": 185,
   "metadata": {},
   "outputs": [
    {
     "name": "stderr",
     "output_type": "stream",
     "text": [
      "/Users/jmay/anaconda3/envs/py27/lib/python2.7/site-packages/ipykernel_launcher.py:4: DataConversionWarning: A column-vector y was passed when a 1d array was expected. Please change the shape of y to (n_samples,), for example using ravel().\n",
      "  after removing the cwd from sys.path.\n"
     ]
    },
    {
     "name": "stdout",
     "output_type": "stream",
     "text": [
      "Accuracy using RF: 68.36%\n"
     ]
    }
   ],
   "source": [
    "from sklearn.ensemble import RandomForestClassifier\n",
    "\n",
    "rft = RandomForestClassifier()\n",
    "rft.fit(X_tr, Y_tr)\n",
    "\n",
    "p = rft.predict(X_ts)\n",
    "\n",
    "precision = accuracy_score(p, Y_ts) * 100\n",
    "print(\"Accuracy using RF: {0:.2f}%\".format(precision))"
   ]
  },
  {
   "cell_type": "code",
   "execution_count": 186,
   "metadata": {},
   "outputs": [
    {
     "name": "stdout",
     "output_type": "stream",
     "text": [
      "{'C': 0.20960225406117416, 'gamma': 0.7670701646824878}\n",
      "Accuracy using SVC: 72.14%\n"
     ]
    }
   ],
   "source": [
    "from sklearn.svm import SVC\n",
    "from sklearn.model_selection import RandomizedSearchCV\n",
    "from scipy import stats\n",
    "\n",
    "def svc_param_selection(X, y, n_folds, n_jobs):\n",
    "    params = {'C': stats.uniform(0, 10),\n",
    "          'gamma': stats.uniform(0, 1)}\n",
    "    rand_search = RandomizedSearchCV(SVC(),\n",
    "                                     param_distributions=params,\n",
    "                                     cv=n_folds,\n",
    "                                     n_jobs=jobs,\n",
    "                                     random_state=2017)\n",
    "    rand_search.fit(X, y)\n",
    "    print(rand_search.best_params_)\n",
    "    return rand_search.best_params_\n",
    "\n",
    "best_params = svc_param_selection(features, Y, 3, 4)\n",
    "\n",
    "svc = SVC(C=best_params['C'], gamma=best_params['gamma'])\n",
    "svc.fit(X_tr, Y_tr)\n",
    "\n",
    "p = svc.predict(X_ts)\n",
    "\n",
    "precision = accuracy_score(p, Y_ts) * 100\n",
    "print(\"Accuracy using SVC: {0:.2f}%\".format(precision))"
   ]
  },
  {
   "cell_type": "code",
   "execution_count": null,
   "metadata": {},
   "outputs": [],
   "source": []
  }
 ],
 "metadata": {
  "kernelspec": {
   "display_name": "Python 2",
   "language": "python",
   "name": "python2"
  },
  "language_info": {
   "codemirror_mode": {
    "name": "ipython",
    "version": 2
   },
   "file_extension": ".py",
   "mimetype": "text/x-python",
   "name": "python",
   "nbconvert_exporter": "python",
   "pygments_lexer": "ipython2",
   "version": "2.7.14"
  }
 },
 "nbformat": 4,
 "nbformat_minor": 2
}
