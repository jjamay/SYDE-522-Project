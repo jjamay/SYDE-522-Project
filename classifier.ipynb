{
 "cells": [
  {
   "cell_type": "code",
   "execution_count": 14,
   "metadata": {},
   "outputs": [],
   "source": [
    "from pandas import DataFrame, read_csv\n",
    "import matplotlib.pyplot as plt\n",
    "import pandas as pd \n",
    "import numpy as np\n",
    "from sklearn.model_selection import train_test_split\n",
    "\n",
    "X_file = r'dataset/X.csv'\n",
    "X = pd.read_csv(X_file)\n",
    "\n",
    "Y_file = r'dataset/Y.csv'\n",
    "Y = pd.read_csv(Y_file)\n",
    "\n",
    "pd.set_option('display.max_columns', len(X.columns))"
   ]
  },
  {
   "cell_type": "code",
   "execution_count": 15,
   "metadata": {},
   "outputs": [
    {
     "data": {
      "text/plain": [
       "((3874, 25), (3874, 1))"
      ]
     },
     "execution_count": 15,
     "metadata": {},
     "output_type": "execute_result"
    }
   ],
   "source": [
    "X.shape, Y.shape"
   ]
  },
  {
   "cell_type": "code",
   "execution_count": 16,
   "metadata": {},
   "outputs": [],
   "source": [
    "from sklearn_pandas import DataFrameMapper\n",
    "from sklearn.feature_extraction.text import TfidfVectorizer\n",
    "\n",
    "mapper = DataFrameMapper([\n",
    "    ('adult', None),\n",
    "    ('belongs_to_collection', TfidfVectorizer()), \n",
    "    ('budget', None),\n",
    "    ('genres', TfidfVectorizer()),\n",
    "    ('homepage', None),\n",
    "    ('overview', TfidfVectorizer()),\n",
    "    ('popularity', None),\n",
    "    ('production_companies', TfidfVectorizer()),\n",
    "    ('production_countries', TfidfVectorizer()),\n",
    "#    ('release_date', None),\n",
    "    ('revenue', None), \n",
    "    ('runtime', None),\n",
    "    ('spoken_languages', None),\n",
    "    ('tagline', TfidfVectorizer()), \n",
    "    ('title', TfidfVectorizer()),\n",
    "    ('vote_average', None),\n",
    "    ('vote_count', None),\n",
    "    ('cast', TfidfVectorizer()),\n",
    "    ('keywords', TfidfVectorizer()),\n",
    "    ('cast_size', None),\n",
    "    ('crew_size', None),\n",
    "    ('director', TfidfVectorizer()),\n",
    "    ('producers', TfidfVectorizer()),\n",
    "    ('executive_producers', TfidfVectorizer()),\n",
    "])\n",
    "\n",
    "X.fillna('', inplace=True) # can't have nan in any of the columns\n",
    "\n",
    "features = mapper.fit_transform(X)"
   ]
  },
  {
   "cell_type": "code",
   "execution_count": 17,
   "metadata": {},
   "outputs": [],
   "source": [
    "X_tr, X_ts, Y_tr, Y_ts = train_test_split(features, Y, train_size = 0.7)"
   ]
  },
  {
   "cell_type": "code",
   "execution_count": 18,
   "metadata": {},
   "outputs": [
    {
     "data": {
      "text/plain": [
       "((2711, 51092), (1163, 51092), (2711, 1), (1163, 1))"
      ]
     },
     "execution_count": 18,
     "metadata": {},
     "output_type": "execute_result"
    }
   ],
   "source": [
    "X_tr.shape, X_ts.shape, Y_tr.shape, Y_ts.shape"
   ]
  },
  {
   "cell_type": "code",
   "execution_count": 21,
   "metadata": {},
   "outputs": [
    {
     "name": "stdout",
     "output_type": "stream",
     "text": [
      "Accuracy using GB: 69.73%\n"
     ]
    }
   ],
   "source": [
    "from sklearn.ensemble import GradientBoostingClassifier\n",
    "from sklearn.metrics import accuracy_score\n",
    "\n",
    "gbt = GradientBoostingClassifier(max_features=\"log2\")\n",
    "gbt.fit(X_tr, Y_tr)\n",
    "\n",
    "p = gbt.predict(X_ts)\n",
    "\n",
    "precision = accuracy_score(p, Y_ts) * 100\n",
    "print(\"Accuracy using GB: {0:.2f}%\".format(precision))"
   ]
  },
  {
   "cell_type": "code",
   "execution_count": null,
   "metadata": {},
   "outputs": [],
   "source": []
  }
 ],
 "metadata": {
  "kernelspec": {
   "display_name": "Python 2",
   "language": "python",
   "name": "python2"
  },
  "language_info": {
   "codemirror_mode": {
    "name": "ipython",
    "version": 2
   },
   "file_extension": ".py",
   "mimetype": "text/x-python",
   "name": "python",
   "nbconvert_exporter": "python",
   "pygments_lexer": "ipython2",
   "version": "2.7.14"
  }
 },
 "nbformat": 4,
 "nbformat_minor": 2
}
